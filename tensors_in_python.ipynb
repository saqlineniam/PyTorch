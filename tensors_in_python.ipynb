{
  "nbformat": 4,
  "nbformat_minor": 0,
  "metadata": {
    "colab": {
      "provenance": [],
      "gpuType": "T4",
      "authorship_tag": "ABX9TyONPDqHgWgQVZ2fZs489+rO",
      "include_colab_link": true
    },
    "kernelspec": {
      "name": "python3",
      "display_name": "Python 3"
    },
    "language_info": {
      "name": "python"
    },
    "accelerator": "GPU"
  },
  "cells": [
    {
      "cell_type": "markdown",
      "metadata": {
        "id": "view-in-github",
        "colab_type": "text"
      },
      "source": [
        "<a href=\"https://colab.research.google.com/github/saqlineniam/PyTorch/blob/main/tensors_in_python.ipynb\" target=\"_parent\"><img src=\"https://colab.research.google.com/assets/colab-badge.svg\" alt=\"Open In Colab\"/></a>"
      ]
    },
    {
      "cell_type": "code",
      "execution_count": 1,
      "metadata": {
        "colab": {
          "base_uri": "https://localhost:8080/"
        },
        "id": "b35B0tlwY7Xv",
        "outputId": "3bbf06ab-f08d-4bc1-c8f9-7daf21a8efd0"
      },
      "outputs": [
        {
          "output_type": "stream",
          "name": "stdout",
          "text": [
            "2.8.0+cu126\n"
          ]
        }
      ],
      "source": [
        "import torch\n",
        "print(torch.__version__)"
      ]
    },
    {
      "cell_type": "code",
      "source": [
        "if torch.cuda.is_available():\n",
        "  print(\"GPU is available\")\n",
        "  print(f\"using GPU: {torch.cuda.get_device_name(0)}\")\n",
        "\n",
        "else:\n",
        "  print(\"GPU is not available\")"
      ],
      "metadata": {
        "colab": {
          "base_uri": "https://localhost:8080/"
        },
        "id": "G8N36LtBZDA_",
        "outputId": "1da5925c-885b-43e0-c457-529599684e15"
      },
      "execution_count": 2,
      "outputs": [
        {
          "output_type": "stream",
          "name": "stdout",
          "text": [
            "GPU is available\n",
            "using GPU: Tesla T4\n"
          ]
        }
      ]
    },
    {
      "cell_type": "markdown",
      "source": [
        "Creating Tensor"
      ],
      "metadata": {
        "id": "9wtRWazoaE5i"
      }
    },
    {
      "cell_type": "code",
      "source": [
        "# using empty\n",
        "\n",
        "a = torch.empty(2,3)"
      ],
      "metadata": {
        "id": "mgXiysVsZmz3"
      },
      "execution_count": 3,
      "outputs": []
    },
    {
      "cell_type": "code",
      "source": [
        "# check type\n",
        "type(a)"
      ],
      "metadata": {
        "colab": {
          "base_uri": "https://localhost:8080/"
        },
        "id": "GjlTtNrCaIa2",
        "outputId": "3420a3e6-614f-4412-f393-348d10b03465"
      },
      "execution_count": 4,
      "outputs": [
        {
          "output_type": "execute_result",
          "data": {
            "text/plain": [
              "torch.Tensor"
            ]
          },
          "metadata": {},
          "execution_count": 4
        }
      ]
    },
    {
      "cell_type": "code",
      "source": [
        "# using zeros\n",
        "\n",
        "torch.zeros(2,3)"
      ],
      "metadata": {
        "colab": {
          "base_uri": "https://localhost:8080/"
        },
        "id": "6Iy8WaWOaekP",
        "outputId": "63753d86-3716-475d-eec4-318f744b6fa1"
      },
      "execution_count": 9,
      "outputs": [
        {
          "output_type": "execute_result",
          "data": {
            "text/plain": [
              "tensor([[0., 0., 0.],\n",
              "        [0., 0., 0.]])"
            ]
          },
          "metadata": {},
          "execution_count": 9
        }
      ]
    },
    {
      "cell_type": "code",
      "source": [
        "# using ones\n",
        "\n",
        "torch.ones(2,3)"
      ],
      "metadata": {
        "colab": {
          "base_uri": "https://localhost:8080/"
        },
        "id": "HRcEEayRajdB",
        "outputId": "a4fcf043-bf24-46f4-8a38-f03324837868"
      },
      "execution_count": 11,
      "outputs": [
        {
          "output_type": "execute_result",
          "data": {
            "text/plain": [
              "tensor([[1., 1., 1.],\n",
              "        [1., 1., 1.]])"
            ]
          },
          "metadata": {},
          "execution_count": 11
        }
      ]
    },
    {
      "cell_type": "code",
      "source": [
        "# torch rand\n",
        "\n",
        "torch.rand(2,3)"
      ],
      "metadata": {
        "colab": {
          "base_uri": "https://localhost:8080/"
        },
        "id": "1D_cbDbLauXK",
        "outputId": "288bed75-0bc6-41d8-be58-19c1895531b4"
      },
      "execution_count": 12,
      "outputs": [
        {
          "output_type": "execute_result",
          "data": {
            "text/plain": [
              "tensor([[0.0766, 0.2580, 0.9079],\n",
              "        [0.8540, 0.9430, 0.0945]])"
            ]
          },
          "metadata": {},
          "execution_count": 12
        }
      ]
    },
    {
      "cell_type": "code",
      "source": [
        "# use of seed\n",
        "\n",
        "torch.rand(2,3)"
      ],
      "metadata": {
        "id": "ydENTKSNazlu"
      },
      "execution_count": null,
      "outputs": []
    },
    {
      "cell_type": "code",
      "source": [
        "# manual seed\n",
        "\n",
        "torch.manual_seed(100)\n",
        "torch.rand(2,3)"
      ],
      "metadata": {
        "colab": {
          "base_uri": "https://localhost:8080/"
        },
        "id": "B0UsSLmzbQ3J",
        "outputId": "872ebcfd-fd83-4f8e-8282-30c05e33c35e"
      },
      "execution_count": 13,
      "outputs": [
        {
          "output_type": "execute_result",
          "data": {
            "text/plain": [
              "tensor([[0.1117, 0.8158, 0.2626],\n",
              "        [0.4839, 0.6765, 0.7539]])"
            ]
          },
          "metadata": {},
          "execution_count": 13
        }
      ]
    },
    {
      "cell_type": "code",
      "source": [
        "# using tensor\n",
        "\n",
        "torch.tensor([[1,2,3],[4,5,6]])"
      ],
      "metadata": {
        "colab": {
          "base_uri": "https://localhost:8080/"
        },
        "id": "DuYiCZQTbW-o",
        "outputId": "cd08802d-4cc6-4d63-887c-ac15b7afaeed"
      },
      "execution_count": 16,
      "outputs": [
        {
          "output_type": "execute_result",
          "data": {
            "text/plain": [
              "tensor([[1, 2, 3],\n",
              "        [4, 5, 6]])"
            ]
          },
          "metadata": {},
          "execution_count": 16
        }
      ]
    },
    {
      "cell_type": "code",
      "source": [
        "# other ways\n",
        "\n",
        "#arange\n",
        "print(\"using arange ->\", torch.arange(0,10))\n",
        "\n",
        "# using linspace\n",
        "print(\"using linspace - >\", torch.linspace(0,10,10))\n",
        "\n",
        "# using eye\n",
        "print(\"using eye ->\", torch.eye(5))\n",
        "\n",
        "\n",
        "#using full\n",
        "print(\"using full ->\", torch.full((3,3), 5))"
      ],
      "metadata": {
        "colab": {
          "base_uri": "https://localhost:8080/"
        },
        "id": "LNswxuIZbhZO",
        "outputId": "ce1cd1db-0729-4baf-d936-4564680af6cc"
      },
      "execution_count": 18,
      "outputs": [
        {
          "output_type": "stream",
          "name": "stdout",
          "text": [
            "using arange -> tensor([0, 1, 2, 3, 4, 5, 6, 7, 8, 9])\n",
            "using linspace - > tensor([ 0.0000,  1.1111,  2.2222,  3.3333,  4.4444,  5.5556,  6.6667,  7.7778,\n",
            "         8.8889, 10.0000])\n",
            "using eye -> tensor([[1., 0., 0., 0., 0.],\n",
            "        [0., 1., 0., 0., 0.],\n",
            "        [0., 0., 1., 0., 0.],\n",
            "        [0., 0., 0., 1., 0.],\n",
            "        [0., 0., 0., 0., 1.]])\n",
            "using full -> tensor([[5, 5, 5],\n",
            "        [5, 5, 5],\n",
            "        [5, 5, 5]])\n"
          ]
        }
      ]
    },
    {
      "cell_type": "markdown",
      "source": [
        "Tensor Shapes"
      ],
      "metadata": {
        "id": "_wniz9TbdL9c"
      }
    },
    {
      "cell_type": "code",
      "source": [
        "x = torch.tensor([[1,3,5], [6,8,10]])"
      ],
      "metadata": {
        "id": "PyE_dQJWcZrN"
      },
      "execution_count": 5,
      "outputs": []
    },
    {
      "cell_type": "code",
      "source": [
        "x.shape"
      ],
      "metadata": {
        "colab": {
          "base_uri": "https://localhost:8080/"
        },
        "id": "kKrxbWzZdtQ-",
        "outputId": "eec8a3b6-bf51-43be-e487-aecd7c2a1e14"
      },
      "execution_count": 6,
      "outputs": [
        {
          "output_type": "execute_result",
          "data": {
            "text/plain": [
              "torch.Size([2, 3])"
            ]
          },
          "metadata": {},
          "execution_count": 6
        }
      ]
    },
    {
      "cell_type": "code",
      "source": [
        "torch.empty_like(x)"
      ],
      "metadata": {
        "colab": {
          "base_uri": "https://localhost:8080/"
        },
        "id": "ClEcPsQuitz-",
        "outputId": "5b4673dd-71b4-419d-ee67-ec8bec6ebad9"
      },
      "execution_count": 7,
      "outputs": [
        {
          "output_type": "execute_result",
          "data": {
            "text/plain": [
              "tensor([[3904678266855766562, 7161628500580249958, 7362648937812208949],\n",
              "        [3761180106852349493, 7161113949703911013, 8243121639892462626]])"
            ]
          },
          "metadata": {},
          "execution_count": 7
        }
      ]
    },
    {
      "cell_type": "code",
      "source": [
        "torch.zeros_like(x)"
      ],
      "metadata": {
        "colab": {
          "base_uri": "https://localhost:8080/"
        },
        "id": "Cr91fJ7IduSe",
        "outputId": "1e31ef6e-b073-4c15-a849-d080f6299cb2"
      },
      "execution_count": 8,
      "outputs": [
        {
          "output_type": "execute_result",
          "data": {
            "text/plain": [
              "tensor([[0, 0, 0],\n",
              "        [0, 0, 0]])"
            ]
          },
          "metadata": {},
          "execution_count": 8
        }
      ]
    },
    {
      "cell_type": "code",
      "source": [
        "torch.ones_like(x)"
      ],
      "metadata": {
        "colab": {
          "base_uri": "https://localhost:8080/"
        },
        "id": "M9RPGZDYinar",
        "outputId": "6775d192-1f31-49be-f65d-38ed316fc9ee"
      },
      "execution_count": 9,
      "outputs": [
        {
          "output_type": "execute_result",
          "data": {
            "text/plain": [
              "tensor([[1, 1, 1],\n",
              "        [1, 1, 1]])"
            ]
          },
          "metadata": {},
          "execution_count": 9
        }
      ]
    },
    {
      "cell_type": "code",
      "source": [
        "torch.rand_like(x)"
      ],
      "metadata": {
        "colab": {
          "base_uri": "https://localhost:8080/",
          "height": 141
        },
        "id": "ZVWhGG1Oiw-D",
        "outputId": "a2c028a0-c3cc-4603-e808-c9d0cea7973b"
      },
      "execution_count": 10,
      "outputs": [
        {
          "output_type": "error",
          "ename": "NotImplementedError",
          "evalue": "\"check_uniform_bounds\" not implemented for 'Long'",
          "traceback": [
            "\u001b[0;31m---------------------------------------------------------------------------\u001b[0m",
            "\u001b[0;31mNotImplementedError\u001b[0m                       Traceback (most recent call last)",
            "\u001b[0;32m/tmp/ipython-input-964596337.py\u001b[0m in \u001b[0;36m<cell line: 0>\u001b[0;34m()\u001b[0m\n\u001b[0;32m----> 1\u001b[0;31m \u001b[0mtorch\u001b[0m\u001b[0;34m.\u001b[0m\u001b[0mrand_like\u001b[0m\u001b[0;34m(\u001b[0m\u001b[0mx\u001b[0m\u001b[0;34m)\u001b[0m\u001b[0;34m\u001b[0m\u001b[0;34m\u001b[0m\u001b[0m\n\u001b[0m",
            "\u001b[0;31mNotImplementedError\u001b[0m: \"check_uniform_bounds\" not implemented for 'Long'"
          ]
        }
      ]
    },
    {
      "cell_type": "markdown",
      "source": [
        "Tensor Data Types"
      ],
      "metadata": {
        "id": "FS3ewJOejRIN"
      }
    },
    {
      "cell_type": "code",
      "source": [
        "x"
      ],
      "metadata": {
        "colab": {
          "base_uri": "https://localhost:8080/"
        },
        "id": "9Wl5fRayi1IJ",
        "outputId": "a9207d12-b58e-4b75-b00d-b54b05eeefc8"
      },
      "execution_count": 11,
      "outputs": [
        {
          "output_type": "execute_result",
          "data": {
            "text/plain": [
              "tensor([[ 1,  3,  5],\n",
              "        [ 6,  8, 10]])"
            ]
          },
          "metadata": {},
          "execution_count": 11
        }
      ]
    },
    {
      "cell_type": "code",
      "source": [
        "x.dtype"
      ],
      "metadata": {
        "colab": {
          "base_uri": "https://localhost:8080/"
        },
        "id": "dfeZ3bN8jTVC",
        "outputId": "2509d578-ac66-47b8-a279-c519948f3be7"
      },
      "execution_count": 12,
      "outputs": [
        {
          "output_type": "execute_result",
          "data": {
            "text/plain": [
              "torch.int64"
            ]
          },
          "metadata": {},
          "execution_count": 12
        }
      ]
    },
    {
      "cell_type": "code",
      "source": [
        "# assign data type\n",
        "\n",
        "torch.tensor([1.0,2.0,3.0], dtype = torch.int32)"
      ],
      "metadata": {
        "colab": {
          "base_uri": "https://localhost:8080/"
        },
        "id": "JG8lEMQijVqG",
        "outputId": "693d52ca-3378-4a68-c856-76ce224234f7"
      },
      "execution_count": 13,
      "outputs": [
        {
          "output_type": "execute_result",
          "data": {
            "text/plain": [
              "tensor([1, 2, 3], dtype=torch.int32)"
            ]
          },
          "metadata": {},
          "execution_count": 13
        }
      ]
    },
    {
      "cell_type": "code",
      "source": [
        "torch.tensor([1,2,3,4], dtype = torch.float32)"
      ],
      "metadata": {
        "colab": {
          "base_uri": "https://localhost:8080/"
        },
        "id": "ADujQODsj04H",
        "outputId": "32197bf3-1557-49a2-8a6b-d88b83b1abb1"
      },
      "execution_count": 14,
      "outputs": [
        {
          "output_type": "execute_result",
          "data": {
            "text/plain": [
              "tensor([1., 2., 3., 4.])"
            ]
          },
          "metadata": {},
          "execution_count": 14
        }
      ]
    },
    {
      "cell_type": "code",
      "source": [
        "# using to()\n",
        "x = x.to(torch.float32)"
      ],
      "metadata": {
        "id": "ycq9itenj78O"
      },
      "execution_count": 15,
      "outputs": []
    },
    {
      "cell_type": "markdown",
      "source": [
        "Mathematical Operations"
      ],
      "metadata": {
        "id": "Sry8UtLhkcBX"
      }
    },
    {
      "cell_type": "markdown",
      "source": [
        "1. Scaler operation"
      ],
      "metadata": {
        "id": "abYwZThgkeAO"
      }
    },
    {
      "cell_type": "code",
      "source": [
        "x = torch.rand(2,3)\n",
        "x"
      ],
      "metadata": {
        "colab": {
          "base_uri": "https://localhost:8080/"
        },
        "id": "_I970cBvkAGB",
        "outputId": "9e364370-b63a-4f3f-d125-60c8337be8b4"
      },
      "execution_count": 16,
      "outputs": [
        {
          "output_type": "execute_result",
          "data": {
            "text/plain": [
              "tensor([[0.2824, 0.7067, 0.1256],\n",
              "        [0.9934, 0.6103, 0.2341]])"
            ]
          },
          "metadata": {},
          "execution_count": 16
        }
      ]
    },
    {
      "cell_type": "code",
      "source": [
        "# addition\n",
        "x+2\n",
        "\n",
        "#substraction\n",
        "x-2\n",
        "\n",
        "#multiplication\n",
        "x*2\n",
        "\n",
        "#division\n",
        "x/2\n",
        "\n",
        "#power\n",
        "x**2\n",
        "\n",
        "#mod\n",
        "x%2\n",
        "\n"
      ],
      "metadata": {
        "colab": {
          "base_uri": "https://localhost:8080/"
        },
        "id": "HDmUqarNkice",
        "outputId": "09176024-67e0-4084-ea52-c3b2ab8dea2d"
      },
      "execution_count": 17,
      "outputs": [
        {
          "output_type": "execute_result",
          "data": {
            "text/plain": [
              "tensor([[0.2824, 0.7067, 0.1256],\n",
              "        [0.9934, 0.6103, 0.2341]])"
            ]
          },
          "metadata": {},
          "execution_count": 17
        }
      ]
    },
    {
      "cell_type": "markdown",
      "source": [
        "2. Element wise operation"
      ],
      "metadata": {
        "id": "W2GieKdzk7OX"
      }
    },
    {
      "cell_type": "code",
      "source": [
        "a = torch.rand(2,3)\n",
        "b = torch.rand(2,3)"
      ],
      "metadata": {
        "id": "h19_wxSYkk_K"
      },
      "execution_count": 18,
      "outputs": []
    },
    {
      "cell_type": "code",
      "source": [
        "print(a)\n",
        "print(b)"
      ],
      "metadata": {
        "colab": {
          "base_uri": "https://localhost:8080/"
        },
        "id": "zXXAj_IBlCrE",
        "outputId": "f75aa8f6-b265-4325-9fdd-454f02d125f1"
      },
      "execution_count": 19,
      "outputs": [
        {
          "output_type": "stream",
          "name": "stdout",
          "text": [
            "tensor([[0.3531, 0.7117, 0.2325],\n",
            "        [0.0979, 0.7902, 0.7538]])\n",
            "tensor([[0.6502, 0.3427, 0.7540],\n",
            "        [0.6932, 0.2781, 0.9665]])\n"
          ]
        }
      ]
    },
    {
      "cell_type": "code",
      "source": [
        "a+b"
      ],
      "metadata": {
        "colab": {
          "base_uri": "https://localhost:8080/"
        },
        "id": "1GPCA9r_lAXs",
        "outputId": "502e3383-74bf-4329-aad1-cc61ac8a488b"
      },
      "execution_count": 20,
      "outputs": [
        {
          "output_type": "execute_result",
          "data": {
            "text/plain": [
              "tensor([[1.0033, 1.0544, 0.9865],\n",
              "        [0.7911, 1.0682, 1.7203]])"
            ]
          },
          "metadata": {},
          "execution_count": 20
        }
      ]
    },
    {
      "cell_type": "code",
      "source": [
        "a-b"
      ],
      "metadata": {
        "colab": {
          "base_uri": "https://localhost:8080/"
        },
        "id": "flDYxzdllB6W",
        "outputId": "500f67da-d86c-4e35-baa6-388dcea02041"
      },
      "execution_count": 21,
      "outputs": [
        {
          "output_type": "execute_result",
          "data": {
            "text/plain": [
              "tensor([[-0.2970,  0.3690, -0.5215],\n",
              "        [-0.5953,  0.5121, -0.2127]])"
            ]
          },
          "metadata": {},
          "execution_count": 21
        }
      ]
    },
    {
      "cell_type": "code",
      "source": [
        "a*b"
      ],
      "metadata": {
        "colab": {
          "base_uri": "https://localhost:8080/"
        },
        "id": "lRx2_buJlGUF",
        "outputId": "7172d379-045d-4c40-9169-c460becfb25a"
      },
      "execution_count": 22,
      "outputs": [
        {
          "output_type": "execute_result",
          "data": {
            "text/plain": [
              "tensor([[0.2296, 0.2439, 0.1753],\n",
              "        [0.0679, 0.2197, 0.7286]])"
            ]
          },
          "metadata": {},
          "execution_count": 22
        }
      ]
    },
    {
      "cell_type": "code",
      "source": [
        "c = torch.tensor([1.2,2.9,3.7,-4])"
      ],
      "metadata": {
        "id": "UHnsp7i1lHb8"
      },
      "execution_count": 30,
      "outputs": []
    },
    {
      "cell_type": "code",
      "source": [
        "torch.abs(c)"
      ],
      "metadata": {
        "colab": {
          "base_uri": "https://localhost:8080/"
        },
        "id": "3MqLzCCiRcGB",
        "outputId": "a8e8a87e-07af-4763-806d-36667b261210"
      },
      "execution_count": 31,
      "outputs": [
        {
          "output_type": "execute_result",
          "data": {
            "text/plain": [
              "tensor([1.2000, 2.9000, 3.7000, 4.0000])"
            ]
          },
          "metadata": {},
          "execution_count": 31
        }
      ]
    },
    {
      "cell_type": "code",
      "source": [
        "torch.round(c)"
      ],
      "metadata": {
        "colab": {
          "base_uri": "https://localhost:8080/"
        },
        "id": "SjPapCY4RfAm",
        "outputId": "ca8b5316-033a-4ee8-b284-ebd18ef0c051"
      },
      "execution_count": 32,
      "outputs": [
        {
          "output_type": "execute_result",
          "data": {
            "text/plain": [
              "tensor([ 1.,  3.,  4., -4.])"
            ]
          },
          "metadata": {},
          "execution_count": 32
        }
      ]
    },
    {
      "cell_type": "code",
      "source": [
        "torch.ceil(c)"
      ],
      "metadata": {
        "colab": {
          "base_uri": "https://localhost:8080/"
        },
        "id": "-Q3hZHzaRrV3",
        "outputId": "ad399e9a-2b09-4ac0-a296-87a092dcd8bd"
      },
      "execution_count": 35,
      "outputs": [
        {
          "output_type": "execute_result",
          "data": {
            "text/plain": [
              "tensor([ 2.,  3.,  4., -4.])"
            ]
          },
          "metadata": {},
          "execution_count": 35
        }
      ]
    },
    {
      "cell_type": "code",
      "source": [
        "torch.clamp(c,min = 2, max = 4)"
      ],
      "metadata": {
        "colab": {
          "base_uri": "https://localhost:8080/"
        },
        "id": "zK921e2_RuSf",
        "outputId": "f7a8dc02-37e4-42a2-e639-016f65d65ad2"
      },
      "execution_count": 36,
      "outputs": [
        {
          "output_type": "execute_result",
          "data": {
            "text/plain": [
              "tensor([2.0000, 2.9000, 3.7000, 2.0000])"
            ]
          },
          "metadata": {},
          "execution_count": 36
        }
      ]
    },
    {
      "cell_type": "markdown",
      "source": [
        "reductionn operation"
      ],
      "metadata": {
        "id": "Zx6Li9eoR-xJ"
      }
    },
    {
      "cell_type": "code",
      "source": [
        "e = torch.randint(size = (2,3), low = 0, high = 10, dtype = torch.float32)\n",
        "e"
      ],
      "metadata": {
        "colab": {
          "base_uri": "https://localhost:8080/"
        },
        "id": "GefhzjjcR8VA",
        "outputId": "5a927385-7223-4248-9a77-5b31a2857c20"
      },
      "execution_count": 45,
      "outputs": [
        {
          "output_type": "execute_result",
          "data": {
            "text/plain": [
              "tensor([[5., 0., 5.],\n",
              "        [1., 9., 8.]])"
            ]
          },
          "metadata": {},
          "execution_count": 45
        }
      ]
    },
    {
      "cell_type": "code",
      "source": [
        "torch.sum(e)"
      ],
      "metadata": {
        "colab": {
          "base_uri": "https://localhost:8080/"
        },
        "id": "FekPzBwQSI-q",
        "outputId": "effad5ee-c45e-4874-f2f1-a54d44e781c5"
      },
      "execution_count": 46,
      "outputs": [
        {
          "output_type": "execute_result",
          "data": {
            "text/plain": [
              "tensor(28.)"
            ]
          },
          "metadata": {},
          "execution_count": 46
        }
      ]
    },
    {
      "cell_type": "code",
      "source": [
        "torch.sum(e, dim=0)"
      ],
      "metadata": {
        "colab": {
          "base_uri": "https://localhost:8080/"
        },
        "id": "JA7tzbtvSSnv",
        "outputId": "8b7ebaec-0b6b-4816-b378-2401e5f2b75d"
      },
      "execution_count": 50,
      "outputs": [
        {
          "output_type": "execute_result",
          "data": {
            "text/plain": [
              "tensor([ 6.,  9., 13.])"
            ]
          },
          "metadata": {},
          "execution_count": 50
        }
      ]
    },
    {
      "cell_type": "code",
      "source": [
        "torch.mean(e, dim=0)"
      ],
      "metadata": {
        "colab": {
          "base_uri": "https://localhost:8080/"
        },
        "id": "f16DtLBhSY1n",
        "outputId": "691eeb7b-41fc-471b-c98b-23ec8001b66f"
      },
      "execution_count": 51,
      "outputs": [
        {
          "output_type": "execute_result",
          "data": {
            "text/plain": [
              "tensor([3.0000, 4.5000, 6.5000])"
            ]
          },
          "metadata": {},
          "execution_count": 51
        }
      ]
    },
    {
      "cell_type": "code",
      "source": [
        "torch.std(e)"
      ],
      "metadata": {
        "colab": {
          "base_uri": "https://localhost:8080/"
        },
        "id": "ekZxcX0fSu0N",
        "outputId": "7506c6e8-ff25-44e0-cf29-628f7b38dc51"
      },
      "execution_count": 52,
      "outputs": [
        {
          "output_type": "execute_result",
          "data": {
            "text/plain": [
              "tensor(3.6148)"
            ]
          },
          "metadata": {},
          "execution_count": 52
        }
      ]
    },
    {
      "cell_type": "code",
      "source": [
        "torch.var(e)"
      ],
      "metadata": {
        "colab": {
          "base_uri": "https://localhost:8080/"
        },
        "id": "8CKXIrvxS2Rl",
        "outputId": "cb228e4d-4773-416a-b785-c7252130ecfc"
      },
      "execution_count": 53,
      "outputs": [
        {
          "output_type": "execute_result",
          "data": {
            "text/plain": [
              "tensor(13.0667)"
            ]
          },
          "metadata": {},
          "execution_count": 53
        }
      ]
    },
    {
      "cell_type": "code",
      "source": [
        "torch.argmax(e)"
      ],
      "metadata": {
        "colab": {
          "base_uri": "https://localhost:8080/"
        },
        "id": "mRYWi5Z4S5Ci",
        "outputId": "ad1e2eed-db22-44e9-f6a2-106c1fc63472"
      },
      "execution_count": 54,
      "outputs": [
        {
          "output_type": "execute_result",
          "data": {
            "text/plain": [
              "tensor(4)"
            ]
          },
          "metadata": {},
          "execution_count": 54
        }
      ]
    },
    {
      "cell_type": "code",
      "source": [
        "torch.argmin(e)"
      ],
      "metadata": {
        "colab": {
          "base_uri": "https://localhost:8080/"
        },
        "id": "REeHQ9U0S9VH",
        "outputId": "e1ce28ab-1f5c-46c9-cc91-d12969a624ed"
      },
      "execution_count": 55,
      "outputs": [
        {
          "output_type": "execute_result",
          "data": {
            "text/plain": [
              "tensor(1)"
            ]
          },
          "metadata": {},
          "execution_count": 55
        }
      ]
    },
    {
      "cell_type": "code",
      "source": [
        "f = torch.randint(size = (2,3), low = 0, high = 10, dtype = torch.float32)\n",
        "g = torch.randint(size = (3,4), low = 10, high = 20, dtype = torch.float32)"
      ],
      "metadata": {
        "id": "gkm2BjPrTDmD"
      },
      "execution_count": 56,
      "outputs": []
    },
    {
      "cell_type": "code",
      "source": [
        "torch.matmul(f,g)"
      ],
      "metadata": {
        "colab": {
          "base_uri": "https://localhost:8080/"
        },
        "id": "aiEfIl_FTi5u",
        "outputId": "6af78e36-3ddf-4b99-d916-693788418c44"
      },
      "execution_count": 57,
      "outputs": [
        {
          "output_type": "execute_result",
          "data": {
            "text/plain": [
              "tensor([[253., 207., 235., 250.],\n",
              "        [190., 193., 166., 176.]])"
            ]
          },
          "metadata": {},
          "execution_count": 57
        }
      ]
    },
    {
      "cell_type": "code",
      "source": [],
      "metadata": {
        "id": "Zvz5BxpoT1CF"
      },
      "execution_count": null,
      "outputs": []
    }
  ]
}